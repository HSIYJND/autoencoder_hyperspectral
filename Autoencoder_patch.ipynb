{
 "cells": [
  {
   "cell_type": "code",
   "execution_count": 1,
   "metadata": {},
   "outputs": [
    {
     "name": "stderr",
     "output_type": "stream",
     "text": [
      "/home/abhi/anaconda3/lib/python3.6/site-packages/h5py/__init__.py:36: FutureWarning: Conversion of the second argument of issubdtype from `float` to `np.floating` is deprecated. In future, it will be treated as `np.float64 == np.dtype(float).type`.\n",
      "  from ._conv import register_converters as _register_converters\n",
      "Using TensorFlow backend.\n"
     ]
    }
   ],
   "source": [
    "import numpy as np\n",
    "import os\n",
    "from sklearn.metrics import cohen_kappa_score\n",
    "from keras.layers import Input, Conv3D, MaxPooling3D, UpSampling3D\n",
    "from keras.models import Model\n",
    "from keras.callbacks import EarlyStopping"
   ]
  },
  {
   "cell_type": "code",
   "execution_count": null,
   "metadata": {},
   "outputs": [],
   "source": [
    "#os.environ[\"CUDA_DEVICE_ORDER\"]=\"PCI_BUS_ID\"\n",
    "#os.environ[\"CUDA_VISIBLE_DEVICES\"]=\"1\"\n",
    "\n",
    "\n",
    "num_classes = 16\n",
    "num_bands = 200\n",
    "\n",
    "path_ip = r\"/home/abhi/Documents/Hyper/Dataset_Hyperspectral/\"\n",
    "path_model_save = r\"/home/abhi/Documents/Hyper/Dataset_Hyperspectral/Pickle_files\"\n",
    "\n",
    "path_unlab_patches = r\"unlabel_patches.npy\""
   ]
  },
  {
   "cell_type": "code",
   "execution_count": 11,
   "metadata": {},
   "outputs": [],
   "source": [
    "path_lab_patches = os.path.join(path_ip, \"patches_ip.npy\")\n",
    "\n",
    "path_x_train = os.path.join(path_ip, \"training_conv_x.npy\")\n",
    "path_y_train = os.path.join(path_ip, \"training_conv_y.npy\")\n",
    "path_x_test = os.path.join(path_ip, \"validation_conv_x.npy\")\n",
    "path_y_test = os.path.join(path_ip, \"validation_conv_y.npy\")\n",
    "\n",
    "path_cae_save = os.path.join(path_model_save, \"cae_model_3d_12.h5\")\n",
    "path_encoder_save = os.path.join(path_model_save, \"encoder_model_3d_12.h5\")\n",
    "path_cae_lab_save = os.path.join(path_model_save, \"cae_model_lab_3d_12.h5\")\n",
    "path_encoder_lab_save = os.path.join(path_model_save, \"encoder_model_lab_3d_12.h5\")\n",
    "\n",
    "input_img = Input(shape=(1, num_bands, 8, 8))\n"
   ]
  },
  {
   "cell_type": "code",
   "execution_count": 12,
   "metadata": {},
   "outputs": [
    {
     "ename": "FileNotFoundError",
     "evalue": "[Errno 2] No such file or directory: 'unlabel_patches.npy'",
     "output_type": "error",
     "traceback": [
      "\u001b[0;31m---------------------------------------------------------------------------\u001b[0m",
      "\u001b[0;31mFileNotFoundError\u001b[0m                         Traceback (most recent call last)",
      "\u001b[0;32m<ipython-input-12-f4575eee3774>\u001b[0m in \u001b[0;36m<module>\u001b[0;34m()\u001b[0m\n\u001b[1;32m     26\u001b[0m \u001b[0;34m\u001b[0m\u001b[0m\n\u001b[1;32m     27\u001b[0m \u001b[0;31m# Training with unlabelled data\u001b[0m\u001b[0;34m\u001b[0m\u001b[0;34m\u001b[0m\u001b[0m\n\u001b[0;32m---> 28\u001b[0;31m \u001b[0marray_patches\u001b[0m \u001b[0;34m=\u001b[0m \u001b[0mnp\u001b[0m\u001b[0;34m.\u001b[0m\u001b[0mload\u001b[0m\u001b[0;34m(\u001b[0m\u001b[0mpath_unlab_patches\u001b[0m\u001b[0;34m)\u001b[0m\u001b[0;34m\u001b[0m\u001b[0m\n\u001b[0m\u001b[1;32m     29\u001b[0m \u001b[0;34m\u001b[0m\u001b[0m\n\u001b[1;32m     30\u001b[0m \u001b[0mt1\u001b[0m \u001b[0;34m=\u001b[0m \u001b[0mtime\u001b[0m\u001b[0;34m.\u001b[0m\u001b[0mtime\u001b[0m\u001b[0;34m(\u001b[0m\u001b[0;34m)\u001b[0m\u001b[0;34m\u001b[0m\u001b[0m\n",
      "\u001b[0;32m~/.local/lib/python3.6/site-packages/numpy/lib/npyio.py\u001b[0m in \u001b[0;36mload\u001b[0;34m(file, mmap_mode, allow_pickle, fix_imports, encoding)\u001b[0m\n\u001b[1;32m    370\u001b[0m     \u001b[0mown_fid\u001b[0m \u001b[0;34m=\u001b[0m \u001b[0;32mFalse\u001b[0m\u001b[0;34m\u001b[0m\u001b[0m\n\u001b[1;32m    371\u001b[0m     \u001b[0;32mif\u001b[0m \u001b[0misinstance\u001b[0m\u001b[0;34m(\u001b[0m\u001b[0mfile\u001b[0m\u001b[0;34m,\u001b[0m \u001b[0mbasestring\u001b[0m\u001b[0;34m)\u001b[0m\u001b[0;34m:\u001b[0m\u001b[0;34m\u001b[0m\u001b[0m\n\u001b[0;32m--> 372\u001b[0;31m         \u001b[0mfid\u001b[0m \u001b[0;34m=\u001b[0m \u001b[0mopen\u001b[0m\u001b[0;34m(\u001b[0m\u001b[0mfile\u001b[0m\u001b[0;34m,\u001b[0m \u001b[0;34m\"rb\"\u001b[0m\u001b[0;34m)\u001b[0m\u001b[0;34m\u001b[0m\u001b[0m\n\u001b[0m\u001b[1;32m    373\u001b[0m         \u001b[0mown_fid\u001b[0m \u001b[0;34m=\u001b[0m \u001b[0;32mTrue\u001b[0m\u001b[0;34m\u001b[0m\u001b[0m\n\u001b[1;32m    374\u001b[0m     \u001b[0;32melif\u001b[0m \u001b[0mis_pathlib_path\u001b[0m\u001b[0;34m(\u001b[0m\u001b[0mfile\u001b[0m\u001b[0;34m)\u001b[0m\u001b[0;34m:\u001b[0m\u001b[0;34m\u001b[0m\u001b[0m\n",
      "\u001b[0;31mFileNotFoundError\u001b[0m: [Errno 2] No such file or directory: 'unlabel_patches.npy'"
     ]
    }
   ],
   "source": [
    "x = Conv3D(4, (5, 3, 3), activation='relu', padding='same', data_format = \"channels_first\")(input_img)\n",
    "x = MaxPooling3D((5, 2, 2), padding='same', data_format = \"channels_first\")(x)\n",
    "x = Conv3D(8, (5, 3, 3), activation='relu', padding='same', data_format = \"channels_first\")(x)\n",
    "x = MaxPooling3D((4, 2, 2), padding='same', data_format = \"channels_first\")(x)\n",
    "x = Conv3D(10, (3, 3, 3), activation='relu', padding='same', data_format = \"channels_first\")(x)\n",
    "x = MaxPooling3D((3, 2, 2), padding='same', data_format = \"channels_first\")(x)\n",
    "x = Conv3D(12, (3, 1, 1), activation='relu', padding='same', data_format = \"channels_first\")(x)\n",
    "encoded = MaxPooling3D((3, 1, 1), padding='same', data_format = \"channels_first\")(x)\n",
    "\n",
    "# at this point the representation is (12, 1, 1, 1) i.e. 11-dimensional\n",
    "x = UpSampling3D((3, 1, 1), data_format = \"channels_first\")(encoded)\n",
    "x = Conv3D(12, (3, 1, 1), activation='relu', padding='same', data_format = \"channels_first\")(x)\n",
    "x = UpSampling3D((3, 2, 2), data_format = \"channels_first\")(x)\n",
    "x = Conv3D(10, (3, 3, 3), activation='relu', padding='same', data_format = \"channels_first\")(x)\n",
    "x = UpSampling3D((4, 2, 2), data_format = \"channels_first\")(x)\n",
    "x = Conv3D(8, (5, 3, 3), activation='relu', padding='same', data_format = \"channels_first\")(x)\n",
    "x = UpSampling3D((5, 2, 2), data_format = \"channels_first\")(x)\n",
    "x = Conv3D(4, (5, 3, 3), activation='relu', padding='same', data_format = \"channels_first\")(x)\n",
    "decoded = Conv3D(1, (1, 1, 1), activation='tanh', padding='same', data_format = \"channels_first\")(x)\n",
    "\n",
    "autoencoder = Model(input_img, decoded)\n",
    "autoencoder.compile(optimizer='sgd', loss='mean_squared_error', metrics = ['accuracy'])\n",
    "\n",
    "# Setting when to stop training\n",
    "early_stopping = EarlyStopping(monitor='loss', patience=5)\n",
    "\n",
    "# Training with unlabelled data\n",
    "array_patches = np.load(path_unlab_patches)\n",
    "\n",
    "\n",
    "\n",
    "cae = autoencoder.fit(x=array_patches, y=array_patches, batch_size=100, \n",
    "                      epochs=250, callbacks=[early_stopping])\n",
    "\n",
    "\n",
    "\n",
    "# Save the trained model\n",
    "autoencoder.save(path_cae_save)\n",
    "# this model maps an input to its encoded representation\n",
    "encoder = Model(input_img, encoded)\n",
    "encoder.save(path_encoder_save)\n",
    "\n",
    "\n",
    "# Train again using labeled data\n",
    "array_patches_lab = np.load(path_lab_patches)\n",
    "\n",
    "cae = autoencoder.fit(x=array_patches_lab, y=array_patches_lab, batch_size=100, \n",
    "                      epochs=250, callbacks=[early_stopping])\n",
    "\n",
    "\n",
    "\n",
    "# Save the trained model\n",
    "autoencoder.save(path_cae_lab_save)\n",
    "# This model maps an input to its encoded representation\n",
    "encoder = Model(input_img, encoded)\n",
    "encoder.save(path_encoder_lab_save)\n",
    "\n",
    "\n",
    "# Loading labeled samples\n",
    "x_train = np.load(path_x_train)\n",
    "y_train = np.load(path_y_train)\n",
    "x_test = np.load(path_x_test)\n",
    "y_test = np.load(path_y_test)\n",
    "\n",
    "# Produce encoded features\n",
    "x_train_co = encoder.predict(x_train)\n",
    "x_test_co = encoder.predict(x_test)          \n",
    "x_train_co = x_train_co.reshape((x_train_co.shape[0], x_train_co.shape[1]))\n",
    "x_test_co = x_test_co.reshape((x_test_co.shape[0], x_test_co.shape[1]))\n",
    "\n"
   ]
  },
  {
   "cell_type": "markdown",
   "metadata": {},
   "source": [
    "### Softmax classification of the end features from the autoencoder"
   ]
  },
  {
   "cell_type": "code",
   "execution_count": null,
   "metadata": {},
   "outputs": [],
   "source": [
    "# Train the classifier\n",
    "def softmax(x):\n",
    "    \"\"\"Compute softmax values for each sets of scores in x.\"\"\"\n",
    "    e_x = np.exp(x - np.max(x))\n",
    "    return e_x / e_x.sum()\n",
    "\n",
    "#scores = [3.0, 1.0, 0.2]\n",
    "print(softmax(ixtrain))\n",
    "\n",
    "# Predict lables based on image data\n",
    "y_predict=softmax.predict(x_test_co)\n",
    "kappa_value = cohen_kappa_score(y_predict, y_test)\n",
    "\n",
    "print(kappa_value)\n",
    "print(t2_1)\n",
    "print(t4_3)"
   ]
  }
 ],
 "metadata": {
  "kernelspec": {
   "display_name": "Python 3",
   "language": "python",
   "name": "python3"
  },
  "language_info": {
   "codemirror_mode": {
    "name": "ipython",
    "version": 3
   },
   "file_extension": ".py",
   "mimetype": "text/x-python",
   "name": "python",
   "nbconvert_exporter": "python",
   "pygments_lexer": "ipython3",
   "version": "3.6.5"
  },
  "varInspector": {
   "cols": {
    "lenName": 16,
    "lenType": 16,
    "lenVar": 40
   },
   "kernels_config": {
    "python": {
     "delete_cmd_postfix": "",
     "delete_cmd_prefix": "del ",
     "library": "var_list.py",
     "varRefreshCmd": "print(var_dic_list())"
    },
    "r": {
     "delete_cmd_postfix": ") ",
     "delete_cmd_prefix": "rm(",
     "library": "var_list.r",
     "varRefreshCmd": "cat(var_dic_list()) "
    }
   },
   "types_to_exclude": [
    "module",
    "function",
    "builtin_function_or_method",
    "instance",
    "_Feature"
   ],
   "window_display": false
  }
 },
 "nbformat": 4,
 "nbformat_minor": 2
}
