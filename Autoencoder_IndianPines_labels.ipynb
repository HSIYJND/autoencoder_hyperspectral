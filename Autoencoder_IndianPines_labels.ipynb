{
 "cells": [
  {
   "cell_type": "code",
   "execution_count": null,
   "metadata": {},
   "outputs": [],
   "source": [
    "import keras\n",
    "from keras.models import Sequential\n",
    "from keras.layers import Dense, Dropout, Flatten\n",
    "from keras.layers import Conv2D, MaxPooling2D\n",
    "from keras import backend as K\n",
    "\n",
    "\n",
    "NUM=0.2\n",
    "for i in (0,15):\n",
    "    s_1[i], s_1_test[i], y_1[i], y_1_test[i] = train_test_split(Class[i] ,gt_split[i], test_size=NUM)\n",
    "\n",
    "rows, cols = 145, 145\n",
    "\n",
    "if K.image_data_format() == 'channels_first':\n",
    "    x_train = x_train.reshape(x_train.shape[0], 1, rows, cols)\n",
    "    x_test = x_test.reshape(x_test.shape[0], 1, rows, cols)\n",
    "    input_shape = (1, rows, cols)\n",
    "else:\n",
    "    x_train = x_train.reshape(x_train.shape[0], rows, cols, 1)\n",
    "    x_test = x_test.reshape(x_test.shape[0], rows, cols, 1)\n",
    "    input_shape = (rows, cols, 1)\n",
    "\n",
    "x_train = x_train.astype('float32')\n",
    "x_test = x_test.astype('float32')\n",
    "\n",
    "\n",
    "temp = []\n",
    "for img in x_train:\n",
    "    t = []\n",
    "    for row in img:\n",
    "        for i in row:\n",
    "            t.append(i)\n",
    "    temp.append(t)\n",
    "    \n",
    "'''    \n",
    "x_train = []\n",
    "x_train = temp\n",
    "x_train = np.array(x_train)\n",
    "x_train = x_train.reshape(60000,784)\n",
    "'''"
   ]
  },
  {
   "cell_type": "code",
   "execution_count": null,
   "metadata": {},
   "outputs": [],
   "source": [
    "#autoencoder layers , first dimension is reduced and then it is increased\n",
    "\n",
    "model = Sequential()\n",
    "model.add(Dense(784,activation='relu',input_dim=784))\n",
    "model.add(Dense(256,activation='relu'))\n",
    "model.add(Dense(128,activation='relu'))\n",
    "model.add(Dense(256,activation='relu'))\n",
    "model.add(Dense(784,activation='relu'))\n",
    "\n"
   ]
  },
  {
   "cell_type": "code",
   "execution_count": null,
   "metadata": {},
   "outputs": [],
   "source": [
    "model.compile(loss=keras.losses.mean_squared_error,\n",
    "             optimizer=keras.optimizers.RMSprop(lr=0.0001, rho=0.9, epsilon=None, decay=0.0),\n",
    "             metrics = ['accuracy'])\n",
    "\n",
    "model.fit(x_train,x_train,verbose=1,epochs=10,batch_size=256)\n",
    "model.save('/home/abhi/Documents/Hyper/IPython_files(To get temporary results - Proof of concept)/Pickle_files/a.h5')\n"
   ]
  },
  {
   "cell_type": "code",
   "execution_count": null,
   "metadata": {},
   "outputs": [],
   "source": [
    "from keras.models import load_model\n",
    "import spectral\n",
    "\n",
    "model = load_model('/home/abhi/Documents/Hyper/IPython_files(To get temporary results - Proof of concept)/Pickle_files/a.h5')\n",
    "\n",
    "test = x_train[1].reshape(1,200)\n",
    "y_test = model.predict(test)\n",
    "\n",
    "inp = []\n",
    "temp = []\n",
    "for i in range(len(test[0])):\n",
    "    if((i+1)%28 == 0):\n",
    "        temp.append(test[0][i])\n",
    "        inp.append(temp)\n",
    "        temp = []\n",
    "    else:\n",
    "        temp.append(test[0][i])\n",
    "out = []\n",
    "temp = []\n",
    "for i in range(len(y_test[0])):\n",
    "    if((i+1)%28 == 0):\n",
    "        temp.append(y_test[0][i])\n",
    "        out.append(temp)\n",
    "        temp = []\n",
    "    else:\n",
    "        temp.append(y_test[0][i])\n",
    "        \n",
    "inp = np.array(inp)\n",
    "out = np.array(out)\n",
    "        \n",
    "spectral.imshow('Test Label array',inp)\n",
    "spectral.imshow('Output Labelled array',out)\n"
   ]
  }
 ],
 "metadata": {
  "kernelspec": {
   "display_name": "Python 3",
   "language": "python",
   "name": "python3"
  },
  "language_info": {
   "codemirror_mode": {
    "name": "ipython",
    "version": 3
   },
   "file_extension": ".py",
   "mimetype": "text/x-python",
   "name": "python",
   "nbconvert_exporter": "python",
   "pygments_lexer": "ipython3",
   "version": "3.6.5"
  },
  "varInspector": {
   "cols": {
    "lenName": 16,
    "lenType": 16,
    "lenVar": 40
   },
   "kernels_config": {
    "python": {
     "delete_cmd_postfix": "",
     "delete_cmd_prefix": "del ",
     "library": "var_list.py",
     "varRefreshCmd": "print(var_dic_list())"
    },
    "r": {
     "delete_cmd_postfix": ") ",
     "delete_cmd_prefix": "rm(",
     "library": "var_list.r",
     "varRefreshCmd": "cat(var_dic_list()) "
    }
   },
   "types_to_exclude": [
    "module",
    "function",
    "builtin_function_or_method",
    "instance",
    "_Feature"
   ],
   "window_display": false
  }
 },
 "nbformat": 4,
 "nbformat_minor": 2
}
